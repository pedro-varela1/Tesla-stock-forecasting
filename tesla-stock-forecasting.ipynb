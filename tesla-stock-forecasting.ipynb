{
 "cells": [
  {
   "cell_type": "markdown",
   "metadata": {},
   "source": [
    "# Tesla Stock Forecasting with LSTM\n",
    "> By: [Pedro Artur Varela](https://github.com/pedro-varela1)\n",
    "\n",
    "The purpose of this notebook is to study the application of LSTM with PyTorch in Stock Forecasting. For this, we use the following database available on Kaggle: [Tesla Stock Price](https://www.kaggle.com/datasets/rpaguirre/tesla-stock-price). It contains the following data:\n",
    "1. The date - \"Date\"\n",
    "2. The opening price of the stock - \"Open\"\n",
    "3. The high price of that day - \"High\"\n",
    "4. The low price of that day - \"Low\"\n",
    "5. The closed price of that day - \"Close\"\n",
    "4. The amount of stocks traded during that day - \"Volume\"\n",
    "5. The stock's closing price that has been amended to include any distributions/corporate actions that occurs before next days open - \"Adj[usted] Close\""
   ]
  },
  {
   "cell_type": "markdown",
   "metadata": {},
   "source": [
    "## Data Analyses and Preparation"
   ]
  },
  {
   "cell_type": "markdown",
   "metadata": {},
   "source": [
    "### Data Visualization"
   ]
  },
  {
   "cell_type": "code",
   "execution_count": 1,
   "metadata": {},
   "outputs": [
    {
     "data": {
      "text/html": [
       "<div>\n",
       "<style scoped>\n",
       "    .dataframe tbody tr th:only-of-type {\n",
       "        vertical-align: middle;\n",
       "    }\n",
       "\n",
       "    .dataframe tbody tr th {\n",
       "        vertical-align: top;\n",
       "    }\n",
       "\n",
       "    .dataframe thead th {\n",
       "        text-align: right;\n",
       "    }\n",
       "</style>\n",
       "<table border=\"1\" class=\"dataframe\">\n",
       "  <thead>\n",
       "    <tr style=\"text-align: right;\">\n",
       "      <th></th>\n",
       "      <th>Date</th>\n",
       "      <th>Open</th>\n",
       "      <th>High</th>\n",
       "      <th>Low</th>\n",
       "      <th>Close</th>\n",
       "      <th>Volume</th>\n",
       "      <th>Adj Close</th>\n",
       "    </tr>\n",
       "  </thead>\n",
       "  <tbody>\n",
       "    <tr>\n",
       "      <th>0</th>\n",
       "      <td>6/29/2010</td>\n",
       "      <td>19.000000</td>\n",
       "      <td>25.00</td>\n",
       "      <td>17.540001</td>\n",
       "      <td>23.889999</td>\n",
       "      <td>18766300</td>\n",
       "      <td>23.889999</td>\n",
       "    </tr>\n",
       "    <tr>\n",
       "      <th>1</th>\n",
       "      <td>6/30/2010</td>\n",
       "      <td>25.790001</td>\n",
       "      <td>30.42</td>\n",
       "      <td>23.299999</td>\n",
       "      <td>23.830000</td>\n",
       "      <td>17187100</td>\n",
       "      <td>23.830000</td>\n",
       "    </tr>\n",
       "    <tr>\n",
       "      <th>2</th>\n",
       "      <td>7/1/2010</td>\n",
       "      <td>25.000000</td>\n",
       "      <td>25.92</td>\n",
       "      <td>20.270000</td>\n",
       "      <td>21.959999</td>\n",
       "      <td>8218800</td>\n",
       "      <td>21.959999</td>\n",
       "    </tr>\n",
       "    <tr>\n",
       "      <th>3</th>\n",
       "      <td>7/2/2010</td>\n",
       "      <td>23.000000</td>\n",
       "      <td>23.10</td>\n",
       "      <td>18.709999</td>\n",
       "      <td>19.200001</td>\n",
       "      <td>5139800</td>\n",
       "      <td>19.200001</td>\n",
       "    </tr>\n",
       "    <tr>\n",
       "      <th>4</th>\n",
       "      <td>7/6/2010</td>\n",
       "      <td>20.000000</td>\n",
       "      <td>20.00</td>\n",
       "      <td>15.830000</td>\n",
       "      <td>16.110001</td>\n",
       "      <td>6866900</td>\n",
       "      <td>16.110001</td>\n",
       "    </tr>\n",
       "  </tbody>\n",
       "</table>\n",
       "</div>"
      ],
      "text/plain": [
       "        Date       Open   High        Low      Close    Volume  Adj Close\n",
       "0  6/29/2010  19.000000  25.00  17.540001  23.889999  18766300  23.889999\n",
       "1  6/30/2010  25.790001  30.42  23.299999  23.830000  17187100  23.830000\n",
       "2   7/1/2010  25.000000  25.92  20.270000  21.959999   8218800  21.959999\n",
       "3   7/2/2010  23.000000  23.10  18.709999  19.200001   5139800  19.200001\n",
       "4   7/6/2010  20.000000  20.00  15.830000  16.110001   6866900  16.110001"
      ]
     },
     "execution_count": 1,
     "metadata": {},
     "output_type": "execute_result"
    }
   ],
   "source": [
    "# Load the libraries\n",
    "import numpy as np\n",
    "import pandas as pd\n",
    "import matplotlib.pyplot as plt\n",
    "from sklearn.preprocessing import MinMaxScaler      # For normalizing data\n",
    "from copy import deepcopy       # To copy the data\n",
    "\n",
    "# PyTorch libraries and modules\n",
    "import torch\n",
    "import torch.nn as nn\n",
    "from torch.utils.data import Dataset, DataLoader    # To create custom datasets\n",
    "\n",
    "# Remove warnings\n",
    "import warnings\n",
    "warnings.filterwarnings('ignore')\n",
    "\n",
    "# Load the dataset\n",
    "df = pd.read_csv('Tesla.csv')\n",
    "df.head()"
   ]
  },
  {
   "cell_type": "code",
   "execution_count": 2,
   "metadata": {},
   "outputs": [
    {
     "data": {
      "text/html": [
       "<div>\n",
       "<style scoped>\n",
       "    .dataframe tbody tr th:only-of-type {\n",
       "        vertical-align: middle;\n",
       "    }\n",
       "\n",
       "    .dataframe tbody tr th {\n",
       "        vertical-align: top;\n",
       "    }\n",
       "\n",
       "    .dataframe thead th {\n",
       "        text-align: right;\n",
       "    }\n",
       "</style>\n",
       "<table border=\"1\" class=\"dataframe\">\n",
       "  <thead>\n",
       "    <tr style=\"text-align: right;\">\n",
       "      <th></th>\n",
       "      <th>Date</th>\n",
       "      <th>Close</th>\n",
       "    </tr>\n",
       "  </thead>\n",
       "  <tbody>\n",
       "    <tr>\n",
       "      <th>0</th>\n",
       "      <td>6/29/2010</td>\n",
       "      <td>23.889999</td>\n",
       "    </tr>\n",
       "    <tr>\n",
       "      <th>1</th>\n",
       "      <td>6/30/2010</td>\n",
       "      <td>23.830000</td>\n",
       "    </tr>\n",
       "    <tr>\n",
       "      <th>2</th>\n",
       "      <td>7/1/2010</td>\n",
       "      <td>21.959999</td>\n",
       "    </tr>\n",
       "    <tr>\n",
       "      <th>3</th>\n",
       "      <td>7/2/2010</td>\n",
       "      <td>19.200001</td>\n",
       "    </tr>\n",
       "    <tr>\n",
       "      <th>4</th>\n",
       "      <td>7/6/2010</td>\n",
       "      <td>16.110001</td>\n",
       "    </tr>\n",
       "  </tbody>\n",
       "</table>\n",
       "</div>"
      ],
      "text/plain": [
       "        Date      Close\n",
       "0  6/29/2010  23.889999\n",
       "1  6/30/2010  23.830000\n",
       "2   7/1/2010  21.959999\n",
       "3   7/2/2010  19.200001\n",
       "4   7/6/2010  16.110001"
      ]
     },
     "execution_count": 2,
     "metadata": {},
     "output_type": "execute_result"
    }
   ],
   "source": [
    "# New dataframe with date and close price\n",
    "features = df[['Date', 'Close']]\n",
    "features.head()"
   ]
  },
  {
   "cell_type": "code",
   "execution_count": 3,
   "metadata": {},
   "outputs": [
    {
     "name": "stdout",
     "output_type": "stream",
     "text": [
      "<class 'pandas.core.frame.DataFrame'>\n",
      "RangeIndex: 1692 entries, 0 to 1691\n",
      "Data columns (total 2 columns):\n",
      " #   Column  Non-Null Count  Dtype  \n",
      "---  ------  --------------  -----  \n",
      " 0   Date    1692 non-null   object \n",
      " 1   Close   1692 non-null   float64\n",
      "dtypes: float64(1), object(1)\n",
      "memory usage: 26.6+ KB\n"
     ]
    }
   ],
   "source": [
    "# Check data info\n",
    "features.info()"
   ]
  },
  {
   "cell_type": "code",
   "execution_count": 4,
   "metadata": {},
   "outputs": [
    {
     "data": {
      "text/plain": [
       "Date     0\n",
       "Close    0\n",
       "dtype: int64"
      ]
     },
     "execution_count": 4,
     "metadata": {},
     "output_type": "execute_result"
    }
   ],
   "source": [
    "# Check for missing values\n",
    "features.isnull().sum()"
   ]
  },
  {
   "cell_type": "code",
   "execution_count": 5,
   "metadata": {},
   "outputs": [
    {
     "name": "stdout",
     "output_type": "stream",
     "text": [
      "<class 'pandas.core.frame.DataFrame'>\n",
      "RangeIndex: 1692 entries, 0 to 1691\n",
      "Data columns (total 2 columns):\n",
      " #   Column  Non-Null Count  Dtype         \n",
      "---  ------  --------------  -----         \n",
      " 0   Date    1692 non-null   datetime64[ns]\n",
      " 1   Close   1692 non-null   float64       \n",
      "dtypes: datetime64[ns](1), float64(1)\n",
      "memory usage: 26.6 KB\n"
     ]
    }
   ],
   "source": [
    "# Date is an object, convert to datetime\n",
    "features['Date'] = pd.to_datetime(features['Date'])\n",
    "features.info()\n"
   ]
  },
  {
   "cell_type": "code",
   "execution_count": 6,
   "metadata": {},
   "outputs": [
    {
     "data": {
      "image/png": "[encoded data removed]",
      "text/plain": [
       "<Figure size 1000x600 with 1 Axes>"
      ]
     },
     "metadata": {},
     "output_type": "display_data"
    }
   ],
   "source": [
    "# Plot the data\n",
    "plt.figure(figsize=(10,6))\n",
    "plt.grid(True)\n",
    "plt.xlabel('Dates')\n",
    "plt.ylabel('Close Prices')\n",
    "plt.plot(features['Date'], features['Close'])\n",
    "plt.title('Tesla Closing Price (2010-2017)')\n",
    "plt.show()"
   ]
  },
  {
   "cell_type": "markdown",
   "metadata": {},
   "source": [
    "### Data Prepocessing"
   ]
  },
  {
   "cell_type": "markdown",
   "metadata": {},
   "source": [
    "We've to prepare dato to lstm model.\n",
    "\n",
    "The LSTM model will be trained on past 60 days data i.e. the model will try to predict the closing price based on the last 30 days."
   ]
  },
  {
   "cell_type": "code",
   "execution_count": 7,
   "metadata": {},
   "outputs": [],
   "source": [
    "# Prepare the data colecting the close prices of 'lookback' days\n",
    "\n",
    "def prepare_data(df, lookback):\n",
    "    data = deepcopy(df)\n",
    "    data.set_index('Date', inplace=True)\n",
    "    # Loop to create 'lookback' days lookback\n",
    "    for i in range(1, lookback+1):\n",
    "        data[f'Close(t-{i})'] = data['Close'].shift(i)\n",
    "    # Drop the NaN values (first 'lookback' days)\n",
    "    data.dropna(inplace=True)\n",
    "    return data"
   ]
  },
  {
   "cell_type": "code",
   "execution_count": 8,
   "metadata": {},
   "outputs": [
    {
     "data": {
      "text/html": [
       "<div>\n",
       "<style scoped>\n",
       "    .dataframe tbody tr th:only-of-type {\n",
       "        vertical-align: middle;\n",
       "    }\n",
       "\n",
       "    .dataframe tbody tr th {\n",
       "        vertical-align: top;\n",
       "    }\n",
       "\n",
       "    .dataframe thead th {\n",
       "        text-align: right;\n",
       "    }\n",
       "</style>\n",
       "<table border=\"1\" class=\"dataframe\">\n",
       "  <thead>\n",
       "    <tr style=\"text-align: right;\">\n",
       "      <th></th>\n",
       "      <th>Close</th>\n",
       "      <th>Close(t-1)</th>\n",
       "      <th>Close(t-2)</th>\n",
       "      <th>Close(t-3)</th>\n",
       "      <th>Close(t-4)</th>\n",
       "      <th>Close(t-5)</th>\n",
       "      <th>Close(t-6)</th>\n",
       "      <th>Close(t-7)</th>\n",
       "      <th>Close(t-8)</th>\n",
       "      <th>Close(t-9)</th>\n",
       "      <th>...</th>\n",
       "      <th>Close(t-21)</th>\n",
       "      <th>Close(t-22)</th>\n",
       "      <th>Close(t-23)</th>\n",
       "      <th>Close(t-24)</th>\n",
       "      <th>Close(t-25)</th>\n",
       "      <th>Close(t-26)</th>\n",
       "      <th>Close(t-27)</th>\n",
       "      <th>Close(t-28)</th>\n",
       "      <th>Close(t-29)</th>\n",
       "      <th>Close(t-30)</th>\n",
       "    </tr>\n",
       "    <tr>\n",
       "      <th>Date</th>\n",
       "      <th></th>\n",
       "      <th></th>\n",
       "      <th></th>\n",
       "      <th></th>\n",
       "      <th></th>\n",
       "      <th></th>\n",
       "      <th></th>\n",
       "      <th></th>\n",
       "      <th></th>\n",
       "      <th></th>\n",
       "      <th></th>\n",
       "      <th></th>\n",
       "      <th></th>\n",
       "      <th></th>\n",
       "      <th></th>\n",
       "      <th></th>\n",
       "      <th></th>\n",
       "      <th></th>\n",
       "      <th></th>\n",
       "      <th></th>\n",
       "      <th></th>\n",
       "    </tr>\n",
       "  </thead>\n",
       "  <tbody>\n",
       "    <tr>\n",
       "      <th>2010-08-11</th>\n",
       "      <td>17.900000</td>\n",
       "      <td>19.030001</td>\n",
       "      <td>19.600000</td>\n",
       "      <td>19.590000</td>\n",
       "      <td>20.450001</td>\n",
       "      <td>21.260000</td>\n",
       "      <td>21.950001</td>\n",
       "      <td>20.920000</td>\n",
       "      <td>19.940001</td>\n",
       "      <td>20.350000</td>\n",
       "      <td>...</td>\n",
       "      <td>18.139999</td>\n",
       "      <td>17.049999</td>\n",
       "      <td>17.400000</td>\n",
       "      <td>17.459999</td>\n",
       "      <td>15.800000</td>\n",
       "      <td>16.110001</td>\n",
       "      <td>19.200001</td>\n",
       "      <td>21.959999</td>\n",
       "      <td>23.830000</td>\n",
       "      <td>23.889999</td>\n",
       "    </tr>\n",
       "    <tr>\n",
       "      <th>2010-08-12</th>\n",
       "      <td>17.600000</td>\n",
       "      <td>17.900000</td>\n",
       "      <td>19.030001</td>\n",
       "      <td>19.600000</td>\n",
       "      <td>19.590000</td>\n",
       "      <td>20.450001</td>\n",
       "      <td>21.260000</td>\n",
       "      <td>21.950001</td>\n",
       "      <td>20.920000</td>\n",
       "      <td>19.940001</td>\n",
       "      <td>...</td>\n",
       "      <td>19.840000</td>\n",
       "      <td>18.139999</td>\n",
       "      <td>17.049999</td>\n",
       "      <td>17.400000</td>\n",
       "      <td>17.459999</td>\n",
       "      <td>15.800000</td>\n",
       "      <td>16.110001</td>\n",
       "      <td>19.200001</td>\n",
       "      <td>21.959999</td>\n",
       "      <td>23.830000</td>\n",
       "    </tr>\n",
       "    <tr>\n",
       "      <th>2010-08-13</th>\n",
       "      <td>18.320000</td>\n",
       "      <td>17.600000</td>\n",
       "      <td>17.900000</td>\n",
       "      <td>19.030001</td>\n",
       "      <td>19.600000</td>\n",
       "      <td>19.590000</td>\n",
       "      <td>20.450001</td>\n",
       "      <td>21.260000</td>\n",
       "      <td>21.950001</td>\n",
       "      <td>20.920000</td>\n",
       "      <td>...</td>\n",
       "      <td>19.889999</td>\n",
       "      <td>19.840000</td>\n",
       "      <td>18.139999</td>\n",
       "      <td>17.049999</td>\n",
       "      <td>17.400000</td>\n",
       "      <td>17.459999</td>\n",
       "      <td>15.800000</td>\n",
       "      <td>16.110001</td>\n",
       "      <td>19.200001</td>\n",
       "      <td>21.959999</td>\n",
       "    </tr>\n",
       "    <tr>\n",
       "      <th>2010-08-16</th>\n",
       "      <td>18.780001</td>\n",
       "      <td>18.320000</td>\n",
       "      <td>17.600000</td>\n",
       "      <td>17.900000</td>\n",
       "      <td>19.030001</td>\n",
       "      <td>19.600000</td>\n",
       "      <td>19.590000</td>\n",
       "      <td>20.450001</td>\n",
       "      <td>21.260000</td>\n",
       "      <td>21.950001</td>\n",
       "      <td>...</td>\n",
       "      <td>20.639999</td>\n",
       "      <td>19.889999</td>\n",
       "      <td>19.840000</td>\n",
       "      <td>18.139999</td>\n",
       "      <td>17.049999</td>\n",
       "      <td>17.400000</td>\n",
       "      <td>17.459999</td>\n",
       "      <td>15.800000</td>\n",
       "      <td>16.110001</td>\n",
       "      <td>19.200001</td>\n",
       "    </tr>\n",
       "    <tr>\n",
       "      <th>2010-08-17</th>\n",
       "      <td>19.150000</td>\n",
       "      <td>18.780001</td>\n",
       "      <td>18.320000</td>\n",
       "      <td>17.600000</td>\n",
       "      <td>17.900000</td>\n",
       "      <td>19.030001</td>\n",
       "      <td>19.600000</td>\n",
       "      <td>19.590000</td>\n",
       "      <td>20.450001</td>\n",
       "      <td>21.260000</td>\n",
       "      <td>...</td>\n",
       "      <td>21.910000</td>\n",
       "      <td>20.639999</td>\n",
       "      <td>19.889999</td>\n",
       "      <td>19.840000</td>\n",
       "      <td>18.139999</td>\n",
       "      <td>17.049999</td>\n",
       "      <td>17.400000</td>\n",
       "      <td>17.459999</td>\n",
       "      <td>15.800000</td>\n",
       "      <td>16.110001</td>\n",
       "    </tr>\n",
       "  </tbody>\n",
       "</table>\n",
       "<p>5 rows × 31 columns</p>\n",
       "</div>"
      ],
      "text/plain": [
       "                Close  Close(t-1)  Close(t-2)  Close(t-3)  Close(t-4)  \\\n",
       "Date                                                                    \n",
       "2010-08-11  17.900000   19.030001   19.600000   19.590000   20.450001   \n",
       "2010-08-12  17.600000   17.900000   19.030001   19.600000   19.590000   \n",
       "2010-08-13  18.320000   17.600000   17.900000   19.030001   19.600000   \n",
       "2010-08-16  18.780001   18.320000   17.600000   17.900000   19.030001   \n",
       "2010-08-17  19.150000   18.780001   18.320000   17.600000   17.900000   \n",
       "\n",
       "            Close(t-5)  Close(t-6)  Close(t-7)  Close(t-8)  Close(t-9)  ...  \\\n",
       "Date                                                                    ...   \n",
       "2010-08-11   21.260000   21.950001   20.920000   19.940001   20.350000  ...   \n",
       "2010-08-12   20.450001   21.260000   21.950001   20.920000   19.940001  ...   \n",
       "2010-08-13   19.590000   20.450001   21.260000   21.950001   20.920000  ...   \n",
       "2010-08-16   19.600000   19.590000   20.450001   21.260000   21.950001  ...   \n",
       "2010-08-17   19.030001   19.600000   19.590000   20.450001   21.260000  ...   \n",
       "\n",
       "            Close(t-21)  Close(t-22)  Close(t-23)  Close(t-24)  Close(t-25)  \\\n",
       "Date                                                                          \n",
       "2010-08-11    18.139999    17.049999    17.400000    17.459999    15.800000   \n",
       "2010-08-12    19.840000    18.139999    17.049999    17.400000    17.459999   \n",
       "2010-08-13    19.889999    19.840000    18.139999    17.049999    17.400000   \n",
       "2010-08-16    20.639999    19.889999    19.840000    18.139999    17.049999   \n",
       "2010-08-17    21.910000    20.639999    19.889999    19.840000    18.139999   \n",
       "\n",
       "            Close(t-26)  Close(t-27)  Close(t-28)  Close(t-29)  Close(t-30)  \n",
       "Date                                                                         \n",
       "2010-08-11    16.110001    19.200001    21.959999    23.830000    23.889999  \n",
       "2010-08-12    15.800000    16.110001    19.200001    21.959999    23.830000  \n",
       "2010-08-13    17.459999    15.800000    16.110001    19.200001    21.959999  \n",
       "2010-08-16    17.400000    17.459999    15.800000    16.110001    19.200001  \n",
       "2010-08-17    17.049999    17.400000    17.459999    15.800000    16.110001  \n",
       "\n",
       "[5 rows x 31 columns]"
      ]
     },
     "execution_count": 8,
     "metadata": {},
     "output_type": "execute_result"
    }
   ],
   "source": [
    "# Lets pass the function to the dataframe\n",
    "# and check the result\n",
    "lookback = 30\n",
    "df_prepared = prepare_data(features, lookback)\n",
    "df_prepared.head()"
   ]
  },
  {
   "cell_type": "markdown",
   "metadata": {},
   "source": [
    "It's time to split the data into train and test sets"
   ]
  },
  {
   "cell_type": "code",
   "execution_count": 9,
   "metadata": {},
   "outputs": [
    {
     "name": "stdout",
     "output_type": "stream",
     "text": [
      "Train shape: (1610, 31)\n",
      "Test shape: (52, 31)\n"
     ]
    }
   ],
   "source": [
    "# Split the data into train and test\n",
    "# The train data will be from the first day to 2016-12-31\n",
    "# The test data will be from 2017-01-01 to the last day\n",
    "\n",
    "train = df_prepared[:'2016-12-31']\n",
    "test = df_prepared['2017-01-01':]\n",
    "\n",
    "# Check the shape of the data\n",
    "print(f'Train shape: {train.shape}')\n",
    "print(f'Test shape: {test.shape}')"
   ]
  },
  {
   "cell_type": "code",
   "execution_count": 10,
   "metadata": {},
   "outputs": [
    {
     "data": {
      "text/html": [
       "<div>\n",
       "<style scoped>\n",
       "    .dataframe tbody tr th:only-of-type {\n",
       "        vertical-align: middle;\n",
       "    }\n",
       "\n",
       "    .dataframe tbody tr th {\n",
       "        vertical-align: top;\n",
       "    }\n",
       "\n",
       "    .dataframe thead th {\n",
       "        text-align: right;\n",
       "    }\n",
       "</style>\n",
       "<table border=\"1\" class=\"dataframe\">\n",
       "  <thead>\n",
       "    <tr style=\"text-align: right;\">\n",
       "      <th></th>\n",
       "      <th>Close</th>\n",
       "      <th>Close(t-1)</th>\n",
       "      <th>Close(t-2)</th>\n",
       "      <th>Close(t-3)</th>\n",
       "      <th>Close(t-4)</th>\n",
       "      <th>Close(t-5)</th>\n",
       "      <th>Close(t-6)</th>\n",
       "      <th>Close(t-7)</th>\n",
       "      <th>Close(t-8)</th>\n",
       "      <th>Close(t-9)</th>\n",
       "      <th>...</th>\n",
       "      <th>Close(t-21)</th>\n",
       "      <th>Close(t-22)</th>\n",
       "      <th>Close(t-23)</th>\n",
       "      <th>Close(t-24)</th>\n",
       "      <th>Close(t-25)</th>\n",
       "      <th>Close(t-26)</th>\n",
       "      <th>Close(t-27)</th>\n",
       "      <th>Close(t-28)</th>\n",
       "      <th>Close(t-29)</th>\n",
       "      <th>Close(t-30)</th>\n",
       "    </tr>\n",
       "    <tr>\n",
       "      <th>Date</th>\n",
       "      <th></th>\n",
       "      <th></th>\n",
       "      <th></th>\n",
       "      <th></th>\n",
       "      <th></th>\n",
       "      <th></th>\n",
       "      <th></th>\n",
       "      <th></th>\n",
       "      <th></th>\n",
       "      <th></th>\n",
       "      <th></th>\n",
       "      <th></th>\n",
       "      <th></th>\n",
       "      <th></th>\n",
       "      <th></th>\n",
       "      <th></th>\n",
       "      <th></th>\n",
       "      <th></th>\n",
       "      <th></th>\n",
       "      <th></th>\n",
       "      <th></th>\n",
       "    </tr>\n",
       "  </thead>\n",
       "  <tbody>\n",
       "    <tr>\n",
       "      <th>2010-08-11</th>\n",
       "      <td>17.900000</td>\n",
       "      <td>19.030001</td>\n",
       "      <td>19.600000</td>\n",
       "      <td>19.590000</td>\n",
       "      <td>20.450001</td>\n",
       "      <td>21.260000</td>\n",
       "      <td>21.950001</td>\n",
       "      <td>20.920000</td>\n",
       "      <td>19.940001</td>\n",
       "      <td>20.350000</td>\n",
       "      <td>...</td>\n",
       "      <td>18.139999</td>\n",
       "      <td>17.049999</td>\n",
       "      <td>17.400000</td>\n",
       "      <td>17.459999</td>\n",
       "      <td>15.800000</td>\n",
       "      <td>16.110001</td>\n",
       "      <td>19.200001</td>\n",
       "      <td>21.959999</td>\n",
       "      <td>23.830000</td>\n",
       "      <td>23.889999</td>\n",
       "    </tr>\n",
       "    <tr>\n",
       "      <th>2010-08-12</th>\n",
       "      <td>17.600000</td>\n",
       "      <td>17.900000</td>\n",
       "      <td>19.030001</td>\n",
       "      <td>19.600000</td>\n",
       "      <td>19.590000</td>\n",
       "      <td>20.450001</td>\n",
       "      <td>21.260000</td>\n",
       "      <td>21.950001</td>\n",
       "      <td>20.920000</td>\n",
       "      <td>19.940001</td>\n",
       "      <td>...</td>\n",
       "      <td>19.840000</td>\n",
       "      <td>18.139999</td>\n",
       "      <td>17.049999</td>\n",
       "      <td>17.400000</td>\n",
       "      <td>17.459999</td>\n",
       "      <td>15.800000</td>\n",
       "      <td>16.110001</td>\n",
       "      <td>19.200001</td>\n",
       "      <td>21.959999</td>\n",
       "      <td>23.830000</td>\n",
       "    </tr>\n",
       "    <tr>\n",
       "      <th>2010-08-13</th>\n",
       "      <td>18.320000</td>\n",
       "      <td>17.600000</td>\n",
       "      <td>17.900000</td>\n",
       "      <td>19.030001</td>\n",
       "      <td>19.600000</td>\n",
       "      <td>19.590000</td>\n",
       "      <td>20.450001</td>\n",
       "      <td>21.260000</td>\n",
       "      <td>21.950001</td>\n",
       "      <td>20.920000</td>\n",
       "      <td>...</td>\n",
       "      <td>19.889999</td>\n",
       "      <td>19.840000</td>\n",
       "      <td>18.139999</td>\n",
       "      <td>17.049999</td>\n",
       "      <td>17.400000</td>\n",
       "      <td>17.459999</td>\n",
       "      <td>15.800000</td>\n",
       "      <td>16.110001</td>\n",
       "      <td>19.200001</td>\n",
       "      <td>21.959999</td>\n",
       "    </tr>\n",
       "    <tr>\n",
       "      <th>2010-08-16</th>\n",
       "      <td>18.780001</td>\n",
       "      <td>18.320000</td>\n",
       "      <td>17.600000</td>\n",
       "      <td>17.900000</td>\n",
       "      <td>19.030001</td>\n",
       "      <td>19.600000</td>\n",
       "      <td>19.590000</td>\n",
       "      <td>20.450001</td>\n",
       "      <td>21.260000</td>\n",
       "      <td>21.950001</td>\n",
       "      <td>...</td>\n",
       "      <td>20.639999</td>\n",
       "      <td>19.889999</td>\n",
       "      <td>19.840000</td>\n",
       "      <td>18.139999</td>\n",
       "      <td>17.049999</td>\n",
       "      <td>17.400000</td>\n",
       "      <td>17.459999</td>\n",
       "      <td>15.800000</td>\n",
       "      <td>16.110001</td>\n",
       "      <td>19.200001</td>\n",
       "    </tr>\n",
       "    <tr>\n",
       "      <th>2010-08-17</th>\n",
       "      <td>19.150000</td>\n",
       "      <td>18.780001</td>\n",
       "      <td>18.320000</td>\n",
       "      <td>17.600000</td>\n",
       "      <td>17.900000</td>\n",
       "      <td>19.030001</td>\n",
       "      <td>19.600000</td>\n",
       "      <td>19.590000</td>\n",
       "      <td>20.450001</td>\n",
       "      <td>21.260000</td>\n",
       "      <td>...</td>\n",
       "      <td>21.910000</td>\n",
       "      <td>20.639999</td>\n",
       "      <td>19.889999</td>\n",
       "      <td>19.840000</td>\n",
       "      <td>18.139999</td>\n",
       "      <td>17.049999</td>\n",
       "      <td>17.400000</td>\n",
       "      <td>17.459999</td>\n",
       "      <td>15.800000</td>\n",
       "      <td>16.110001</td>\n",
       "    </tr>\n",
       "  </tbody>\n",
       "</table>\n",
       "<p>5 rows × 31 columns</p>\n",
       "</div>"
      ],
      "text/plain": [
       "                Close  Close(t-1)  Close(t-2)  Close(t-3)  Close(t-4)  \\\n",
       "Date                                                                    \n",
       "2010-08-11  17.900000   19.030001   19.600000   19.590000   20.450001   \n",
       "2010-08-12  17.600000   17.900000   19.030001   19.600000   19.590000   \n",
       "2010-08-13  18.320000   17.600000   17.900000   19.030001   19.600000   \n",
       "2010-08-16  18.780001   18.320000   17.600000   17.900000   19.030001   \n",
       "2010-08-17  19.150000   18.780001   18.320000   17.600000   17.900000   \n",
       "\n",
       "            Close(t-5)  Close(t-6)  Close(t-7)  Close(t-8)  Close(t-9)  ...  \\\n",
       "Date                                                                    ...   \n",
       "2010-08-11   21.260000   21.950001   20.920000   19.940001   20.350000  ...   \n",
       "2010-08-12   20.450001   21.260000   21.950001   20.920000   19.940001  ...   \n",
       "2010-08-13   19.590000   20.450001   21.260000   21.950001   20.920000  ...   \n",
       "2010-08-16   19.600000   19.590000   20.450001   21.260000   21.950001  ...   \n",
       "2010-08-17   19.030001   19.600000   19.590000   20.450001   21.260000  ...   \n",
       "\n",
       "            Close(t-21)  Close(t-22)  Close(t-23)  Close(t-24)  Close(t-25)  \\\n",
       "Date                                                                          \n",
       "2010-08-11    18.139999    17.049999    17.400000    17.459999    15.800000   \n",
       "2010-08-12    19.840000    18.139999    17.049999    17.400000    17.459999   \n",
       "2010-08-13    19.889999    19.840000    18.139999    17.049999    17.400000   \n",
       "2010-08-16    20.639999    19.889999    19.840000    18.139999    17.049999   \n",
       "2010-08-17    21.910000    20.639999    19.889999    19.840000    18.139999   \n",
       "\n",
       "            Close(t-26)  Close(t-27)  Close(t-28)  Close(t-29)  Close(t-30)  \n",
       "Date                                                                         \n",
       "2010-08-11    16.110001    19.200001    21.959999    23.830000    23.889999  \n",
       "2010-08-12    15.800000    16.110001    19.200001    21.959999    23.830000  \n",
       "2010-08-13    17.459999    15.800000    16.110001    19.200001    21.959999  \n",
       "2010-08-16    17.400000    17.459999    15.800000    16.110001    19.200001  \n",
       "2010-08-17    17.049999    17.400000    17.459999    15.800000    16.110001  \n",
       "\n",
       "[5 rows x 31 columns]"
      ]
     },
     "execution_count": 10,
     "metadata": {},
     "output_type": "execute_result"
    }
   ],
   "source": [
    "train.head()"
   ]
  },
  {
   "cell_type": "code",
   "execution_count": 11,
   "metadata": {},
   "outputs": [
    {
     "data": {
      "text/html": [
       "<div>\n",
       "<style scoped>\n",
       "    .dataframe tbody tr th:only-of-type {\n",
       "        vertical-align: middle;\n",
       "    }\n",
       "\n",
       "    .dataframe tbody tr th {\n",
       "        vertical-align: top;\n",
       "    }\n",
       "\n",
       "    .dataframe thead th {\n",
       "        text-align: right;\n",
       "    }\n",
       "</style>\n",
       "<table border=\"1\" class=\"dataframe\">\n",
       "  <thead>\n",
       "    <tr style=\"text-align: right;\">\n",
       "      <th></th>\n",
       "      <th>Close</th>\n",
       "      <th>Close(t-1)</th>\n",
       "      <th>Close(t-2)</th>\n",
       "      <th>Close(t-3)</th>\n",
       "      <th>Close(t-4)</th>\n",
       "      <th>Close(t-5)</th>\n",
       "      <th>Close(t-6)</th>\n",
       "      <th>Close(t-7)</th>\n",
       "      <th>Close(t-8)</th>\n",
       "      <th>Close(t-9)</th>\n",
       "      <th>...</th>\n",
       "      <th>Close(t-21)</th>\n",
       "      <th>Close(t-22)</th>\n",
       "      <th>Close(t-23)</th>\n",
       "      <th>Close(t-24)</th>\n",
       "      <th>Close(t-25)</th>\n",
       "      <th>Close(t-26)</th>\n",
       "      <th>Close(t-27)</th>\n",
       "      <th>Close(t-28)</th>\n",
       "      <th>Close(t-29)</th>\n",
       "      <th>Close(t-30)</th>\n",
       "    </tr>\n",
       "    <tr>\n",
       "      <th>Date</th>\n",
       "      <th></th>\n",
       "      <th></th>\n",
       "      <th></th>\n",
       "      <th></th>\n",
       "      <th></th>\n",
       "      <th></th>\n",
       "      <th></th>\n",
       "      <th></th>\n",
       "      <th></th>\n",
       "      <th></th>\n",
       "      <th></th>\n",
       "      <th></th>\n",
       "      <th></th>\n",
       "      <th></th>\n",
       "      <th></th>\n",
       "      <th></th>\n",
       "      <th></th>\n",
       "      <th></th>\n",
       "      <th></th>\n",
       "      <th></th>\n",
       "      <th></th>\n",
       "    </tr>\n",
       "  </thead>\n",
       "  <tbody>\n",
       "    <tr>\n",
       "      <th>2017-01-03</th>\n",
       "      <td>216.990005</td>\n",
       "      <td>213.690002</td>\n",
       "      <td>214.679993</td>\n",
       "      <td>219.740005</td>\n",
       "      <td>219.529999</td>\n",
       "      <td>213.339996</td>\n",
       "      <td>208.449997</td>\n",
       "      <td>207.699997</td>\n",
       "      <td>208.789993</td>\n",
       "      <td>202.729996</td>\n",
       "      <td>...</td>\n",
       "      <td>181.880005</td>\n",
       "      <td>189.399994</td>\n",
       "      <td>189.570007</td>\n",
       "      <td>196.119995</td>\n",
       "      <td>196.649994</td>\n",
       "      <td>193.139999</td>\n",
       "      <td>191.169998</td>\n",
       "      <td>184.520004</td>\n",
       "      <td>185.020004</td>\n",
       "      <td>188.660004</td>\n",
       "    </tr>\n",
       "    <tr>\n",
       "      <th>2017-01-04</th>\n",
       "      <td>226.990005</td>\n",
       "      <td>216.990005</td>\n",
       "      <td>213.690002</td>\n",
       "      <td>214.679993</td>\n",
       "      <td>219.740005</td>\n",
       "      <td>219.529999</td>\n",
       "      <td>213.339996</td>\n",
       "      <td>208.449997</td>\n",
       "      <td>207.699997</td>\n",
       "      <td>208.789993</td>\n",
       "      <td>...</td>\n",
       "      <td>181.470001</td>\n",
       "      <td>181.880005</td>\n",
       "      <td>189.399994</td>\n",
       "      <td>189.570007</td>\n",
       "      <td>196.119995</td>\n",
       "      <td>196.649994</td>\n",
       "      <td>193.139999</td>\n",
       "      <td>191.169998</td>\n",
       "      <td>184.520004</td>\n",
       "      <td>185.020004</td>\n",
       "    </tr>\n",
       "    <tr>\n",
       "      <th>2017-01-05</th>\n",
       "      <td>226.750000</td>\n",
       "      <td>226.990005</td>\n",
       "      <td>216.990005</td>\n",
       "      <td>213.690002</td>\n",
       "      <td>214.679993</td>\n",
       "      <td>219.740005</td>\n",
       "      <td>219.529999</td>\n",
       "      <td>213.339996</td>\n",
       "      <td>208.449997</td>\n",
       "      <td>207.699997</td>\n",
       "      <td>...</td>\n",
       "      <td>186.800003</td>\n",
       "      <td>181.470001</td>\n",
       "      <td>181.880005</td>\n",
       "      <td>189.399994</td>\n",
       "      <td>189.570007</td>\n",
       "      <td>196.119995</td>\n",
       "      <td>196.649994</td>\n",
       "      <td>193.139999</td>\n",
       "      <td>191.169998</td>\n",
       "      <td>184.520004</td>\n",
       "    </tr>\n",
       "    <tr>\n",
       "      <th>2017-01-06</th>\n",
       "      <td>229.009995</td>\n",
       "      <td>226.750000</td>\n",
       "      <td>226.990005</td>\n",
       "      <td>216.990005</td>\n",
       "      <td>213.690002</td>\n",
       "      <td>214.679993</td>\n",
       "      <td>219.740005</td>\n",
       "      <td>219.529999</td>\n",
       "      <td>213.339996</td>\n",
       "      <td>208.449997</td>\n",
       "      <td>...</td>\n",
       "      <td>185.850006</td>\n",
       "      <td>186.800003</td>\n",
       "      <td>181.470001</td>\n",
       "      <td>181.880005</td>\n",
       "      <td>189.399994</td>\n",
       "      <td>189.570007</td>\n",
       "      <td>196.119995</td>\n",
       "      <td>196.649994</td>\n",
       "      <td>193.139999</td>\n",
       "      <td>191.169998</td>\n",
       "    </tr>\n",
       "    <tr>\n",
       "      <th>2017-01-09</th>\n",
       "      <td>231.279999</td>\n",
       "      <td>229.009995</td>\n",
       "      <td>226.750000</td>\n",
       "      <td>226.990005</td>\n",
       "      <td>216.990005</td>\n",
       "      <td>213.690002</td>\n",
       "      <td>214.679993</td>\n",
       "      <td>219.740005</td>\n",
       "      <td>219.529999</td>\n",
       "      <td>213.339996</td>\n",
       "      <td>...</td>\n",
       "      <td>193.149994</td>\n",
       "      <td>185.850006</td>\n",
       "      <td>186.800003</td>\n",
       "      <td>181.470001</td>\n",
       "      <td>181.880005</td>\n",
       "      <td>189.399994</td>\n",
       "      <td>189.570007</td>\n",
       "      <td>196.119995</td>\n",
       "      <td>196.649994</td>\n",
       "      <td>193.139999</td>\n",
       "    </tr>\n",
       "  </tbody>\n",
       "</table>\n",
       "<p>5 rows × 31 columns</p>\n",
       "</div>"
      ],
      "text/plain": [
       "                 Close  Close(t-1)  Close(t-2)  Close(t-3)  Close(t-4)  \\\n",
       "Date                                                                     \n",
       "2017-01-03  216.990005  213.690002  214.679993  219.740005  219.529999   \n",
       "2017-01-04  226.990005  216.990005  213.690002  214.679993  219.740005   \n",
       "2017-01-05  226.750000  226.990005  216.990005  213.690002  214.679993   \n",
       "2017-01-06  229.009995  226.750000  226.990005  216.990005  213.690002   \n",
       "2017-01-09  231.279999  229.009995  226.750000  226.990005  216.990005   \n",
       "\n",
       "            Close(t-5)  Close(t-6)  Close(t-7)  Close(t-8)  Close(t-9)  ...  \\\n",
       "Date                                                                    ...   \n",
       "2017-01-03  213.339996  208.449997  207.699997  208.789993  202.729996  ...   \n",
       "2017-01-04  219.529999  213.339996  208.449997  207.699997  208.789993  ...   \n",
       "2017-01-05  219.740005  219.529999  213.339996  208.449997  207.699997  ...   \n",
       "2017-01-06  214.679993  219.740005  219.529999  213.339996  208.449997  ...   \n",
       "2017-01-09  213.690002  214.679993  219.740005  219.529999  213.339996  ...   \n",
       "\n",
       "            Close(t-21)  Close(t-22)  Close(t-23)  Close(t-24)  Close(t-25)  \\\n",
       "Date                                                                          \n",
       "2017-01-03   181.880005   189.399994   189.570007   196.119995   196.649994   \n",
       "2017-01-04   181.470001   181.880005   189.399994   189.570007   196.119995   \n",
       "2017-01-05   186.800003   181.470001   181.880005   189.399994   189.570007   \n",
       "2017-01-06   185.850006   186.800003   181.470001   181.880005   189.399994   \n",
       "2017-01-09   193.149994   185.850006   186.800003   181.470001   181.880005   \n",
       "\n",
       "            Close(t-26)  Close(t-27)  Close(t-28)  Close(t-29)  Close(t-30)  \n",
       "Date                                                                         \n",
       "2017-01-03   193.139999   191.169998   184.520004   185.020004   188.660004  \n",
       "2017-01-04   196.649994   193.139999   191.169998   184.520004   185.020004  \n",
       "2017-01-05   196.119995   196.649994   193.139999   191.169998   184.520004  \n",
       "2017-01-06   189.570007   196.119995   196.649994   193.139999   191.169998  \n",
       "2017-01-09   189.399994   189.570007   196.119995   196.649994   193.139999  \n",
       "\n",
       "[5 rows x 31 columns]"
      ]
     },
     "execution_count": 11,
     "metadata": {},
     "output_type": "execute_result"
    }
   ],
   "source": [
    "test.head()"
   ]
  },
  {
   "cell_type": "markdown",
   "metadata": {},
   "source": [
    "The data shape has (train_rows+test_rows) 1662 rows, because for the first \"lookback\" days, we do not have the close price of the previous days (1692-30=1662) and 1 column for actual close and 30 for previous 30 closes."
   ]
  },
  {
   "cell_type": "code",
   "execution_count": 12,
   "metadata": {},
   "outputs": [
    {
     "name": "stdout",
     "output_type": "stream",
     "text": [
      "Train shape: (1610, 31)\n",
      "Test shape: (52, 31)\n"
     ]
    }
   ],
   "source": [
    "test_np = test.to_numpy()\n",
    "train_np = train.to_numpy()\n",
    "\n",
    "# Apply MinMaxScaler to scale the data, i.e.,\n",
    "# turn the data between -1 and 1\n",
    "scaler = MinMaxScaler(feature_range=(-1,1))\n",
    "\n",
    "# Fit the scaler to the data\n",
    "train_scaled = scaler.fit_transform(train_np)\n",
    "test_scaled = scaler.fit_transform(test_np)\n",
    "\n",
    "# Check the shape of the data\n",
    "print(f'Train shape: {train_scaled.shape}')\n",
    "print(f'Test shape: {test_scaled.shape}')"
   ]
  },
  {
   "cell_type": "markdown",
   "metadata": {},
   "source": [
    "It's important to separate the features from the target variable. In this case, the target variable is the close price of the day. The features are the close prices of the previous days."
   ]
  },
  {
   "cell_type": "code",
   "execution_count": 13,
   "metadata": {},
   "outputs": [
    {
     "name": "stdout",
     "output_type": "stream",
     "text": [
      "X_train shape: (1610, 30), y_train shape: (1610,)\n",
      "X_test shape: (52, 30), y_test shape: (52,)\n"
     ]
    }
   ],
   "source": [
    "# Separate the features and the target\n",
    "X_train = train_scaled[:, 1:]\n",
    "y_train = train_scaled[:, 0]\n",
    "\n",
    "X_test = test_scaled[:, 1:]\n",
    "y_test = test_scaled[:, 0]\n",
    "\n",
    "# Deepcopy to avoid problems in manipulation\n",
    "X_train = deepcopy(np.flip(X_train, axis=1))\n",
    "X_test = deepcopy(np.flip(X_test, axis=1))\n",
    "\n",
    "print(f'X_train shape: {X_train.shape}, y_train shape: {y_train.shape}')\n",
    "print(f'X_test shape: {X_test.shape}, y_test shape: {y_test.shape}')"
   ]
  },
  {
   "cell_type": "markdown",
   "metadata": {},
   "source": [
    "We can see that the a column of actual close prices was removed from the features and stored in the target variable."
   ]
  },
  {
   "cell_type": "markdown",
   "metadata": {},
   "source": [
    "Now, let's pass to torch tensors and reshape the data to be in the format (batch_size, sequence_length, input_size)."
   ]
  },
  {
   "cell_type": "code",
   "execution_count": 14,
   "metadata": {},
   "outputs": [
    {
     "name": "stdout",
     "output_type": "stream",
     "text": [
      "X_train shape: torch.Size([1610, 30, 1]), y_train shape: torch.Size([1610, 1])\n",
      "X_test shape: torch.Size([52, 30, 1]), y_test shape: torch.Size([52, 1])\n"
     ]
    }
   ],
   "source": [
    "# Reshape the data\n",
    "X_train = X_train.reshape(X_train.shape[0], X_train.shape[1], 1)\n",
    "X_test = X_test.reshape(X_test.shape[0], X_test.shape[1], 1)\n",
    "\n",
    "y_train = y_train.reshape(-1, 1)\n",
    "y_test = y_test.reshape(-1, 1)\n",
    "\n",
    "# Pass the data to torch\n",
    "X_train = torch.from_numpy(X_train).float()\n",
    "y_train = torch.from_numpy(y_train).float()\n",
    "X_test = torch.from_numpy(X_test).float()\n",
    "y_test = torch.from_numpy(y_test).float()\n",
    "\n",
    "print(f'X_train shape: {X_train.shape}, y_train shape: {y_train.shape}')\n",
    "print(f'X_test shape: {X_test.shape}, y_test shape: {y_test.shape}')\n"
   ]
  },
  {
   "cell_type": "markdown",
   "metadata": {},
   "source": [
    "## Load Model"
   ]
  },
  {
   "cell_type": "code",
   "execution_count": 15,
   "metadata": {},
   "outputs": [],
   "source": [
    "# Create a custom dataset for train and test\n",
    "class TimeSeriesDataset(Dataset):\n",
    "    def __init__(self, X_data, y_data):\n",
    "        self.X_data = X_data\n",
    "        self.y_data = y_data\n",
    "\n",
    "    def __getitem__(self, index):\n",
    "        return self.X_data[index], self.y_data[index]\n",
    "\n",
    "    def __len__(self):\n",
    "        return len(self.X_data)\n",
    "\n",
    "train_dataset = TimeSeriesDataset(X_train, y_train)\n",
    "test_dataset = TimeSeriesDataset(X_test, y_test)"
   ]
  },
  {
   "cell_type": "code",
   "execution_count": 16,
   "metadata": {},
   "outputs": [
    {
     "name": "stdout",
     "output_type": "stream",
     "text": [
      "torch.Size([64, 30, 1])\n",
      "torch.Size([64, 1])\n"
     ]
    }
   ],
   "source": [
    "# Dataloader\n",
    "train_batch_size = 64\n",
    "test_batch_size = 16\n",
    "\n",
    "train_loader = DataLoader(dataset=train_dataset,\n",
    "                            batch_size=train_batch_size,\n",
    "                            shuffle=True)\n",
    "test_loader = DataLoader(dataset=test_dataset,\n",
    "                            batch_size=test_batch_size,\n",
    "                            shuffle=False)\n",
    "\n",
    "# Check the data\n",
    "for _, (features1, target1) in enumerate(train_loader):\n",
    "    print(features1.shape)\n",
    "    print(target1.shape)\n",
    "    break"
   ]
  },
  {
   "cell_type": "markdown",
   "metadata": {},
   "source": [
    "Looks good! Now, let's load the model from _model.py_ to device."
   ]
  },
  {
   "cell_type": "code",
   "execution_count": 17,
   "metadata": {},
   "outputs": [
    {
     "name": "stdout",
     "output_type": "stream",
     "text": [
      "cuda:0\n"
     ]
    }
   ],
   "source": [
    "device =  torch.device(\"cuda:0\" if torch.cuda.is_available() else \"cpu\")\n",
    "print(device)"
   ]
  },
  {
   "cell_type": "code",
   "execution_count": 18,
   "metadata": {},
   "outputs": [
    {
     "data": {
      "text/plain": [
       "LSTM(\n",
       "  (lstm): LSTM(1, 128, batch_first=True)\n",
       "  (fc): Linear(in_features=128, out_features=1, bias=True)\n",
       ")"
      ]
     },
     "execution_count": 18,
     "metadata": {},
     "output_type": "execute_result"
    }
   ],
   "source": [
    "from model import LSTM\n",
    "model = LSTM(input_size=1, hidden_size=128, num_layers=1, output_size=1, device=device)\n",
    "model.to(device)\n",
    "model"
   ]
  },
  {
   "cell_type": "markdown",
   "metadata": {},
   "source": [
    "## Train Model"
   ]
  },
  {
   "cell_type": "markdown",
   "metadata": {},
   "source": [
    "### Preparation"
   ]
  },
  {
   "cell_type": "markdown",
   "metadata": {},
   "source": [
    "Before training, we need to define a test function to evaluate the model."
   ]
  },
  {
   "cell_type": "code",
   "execution_count": 19,
   "metadata": {},
   "outputs": [],
   "source": [
    "# Test the model\n",
    "def test(model, test_loader, criterion, device):\n",
    "    model.eval()\n",
    "    loss_test = 0.0\n",
    "    for _, (X_test, y_test) in enumerate(test_loader):\n",
    "        X_test, y_test = X_test.to(device), y_test.to(device)\n",
    "        with torch.no_grad():\n",
    "            y_hat = model(X_test)\n",
    "            loss = criterion(y_hat, y_test)\n",
    "            loss_test += loss.item()\n",
    "    \n",
    "    avg_loss = loss_test / len(test_loader)\n",
    "    return avg_loss"
   ]
  },
  {
   "cell_type": "markdown",
   "metadata": {},
   "source": [
    "Let's define some training parameters."
   ]
  },
  {
   "cell_type": "code",
   "execution_count": 20,
   "metadata": {},
   "outputs": [],
   "source": [
    "# Parameters\n",
    "num_epochs = 50\n",
    "learning_rate = 0.0005\n",
    "test_every = 12\n",
    "criterion = nn.MSELoss()\n",
    "optimizer = torch.optim.Adam(model.parameters(), lr=learning_rate)"
   ]
  },
  {
   "cell_type": "markdown",
   "metadata": {},
   "source": [
    "### Training"
   ]
  },
  {
   "cell_type": "markdown",
   "metadata": {},
   "source": [
    "Finally the training loop."
   ]
  },
  {
   "cell_type": "code",
   "execution_count": 21,
   "metadata": {},
   "outputs": [
    {
     "name": "stdout",
     "output_type": "stream",
     "text": [
      "Epoch 1/50\n",
      "Batch 12, Actual Training Loss: 0.4617, Test Loss: 0.2174\n",
      "Batch 24, Actual Training Loss: 0.3444, Test Loss: 0.1921\n",
      "\n",
      "Epoch 2/50\n",
      "Batch 36, Actual Training Loss: 0.1551, Test Loss: 0.0833\n",
      "Batch 48, Actual Training Loss: 0.0270, Test Loss: 0.0884\n",
      "\n",
      "Epoch 3/50\n",
      "Batch 60, Actual Training Loss: 0.0125, Test Loss: 0.0705\n",
      "Batch 72, Actual Training Loss: 0.0107, Test Loss: 0.0806\n",
      "\n",
      "Epoch 4/50\n",
      "Batch 84, Actual Training Loss: 0.0080, Test Loss: 0.0749\n",
      "Batch 96, Actual Training Loss: 0.0065, Test Loss: 0.0808\n",
      "\n",
      "Epoch 5/50\n",
      "Batch 108, Actual Training Loss: 0.0062, Test Loss: 0.0823\n",
      "Batch 120, Actual Training Loss: 0.0062, Test Loss: 0.0824\n",
      "\n",
      "Epoch 6/50\n",
      "Batch 132, Actual Training Loss: 0.0056, Test Loss: 0.0847\n",
      "Batch 144, Actual Training Loss: 0.0054, Test Loss: 0.0799\n",
      "Batch 156, Actual Training Loss: 0.0062, Test Loss: 0.0804\n",
      "\n",
      "Epoch 7/50\n",
      "Batch 168, Actual Training Loss: 0.0050, Test Loss: 0.0793\n",
      "Batch 180, Actual Training Loss: 0.0054, Test Loss: 0.0810\n",
      "\n",
      "Epoch 8/50\n",
      "Batch 192, Actual Training Loss: 0.0053, Test Loss: 0.0792\n",
      "Batch 204, Actual Training Loss: 0.0048, Test Loss: 0.0767\n",
      "\n",
      "Epoch 9/50\n",
      "Batch 216, Actual Training Loss: 0.0061, Test Loss: 0.0759\n",
      "Batch 228, Actual Training Loss: 0.0042, Test Loss: 0.0760\n",
      "\n",
      "Epoch 10/50\n",
      "Batch 240, Actual Training Loss: 0.0049, Test Loss: 0.0748\n",
      "Batch 252, Actual Training Loss: 0.0045, Test Loss: 0.0743\n",
      "\n",
      "Epoch 11/50\n",
      "Batch 264, Actual Training Loss: 0.0037, Test Loss: 0.0749\n",
      "Batch 276, Actual Training Loss: 0.0040, Test Loss: 0.0746\n",
      "\n",
      "Epoch 12/50\n",
      "Batch 288, Actual Training Loss: 0.0042, Test Loss: 0.0758\n",
      "Batch 300, Actual Training Loss: 0.0042, Test Loss: 0.0757\n",
      "Batch 312, Actual Training Loss: 0.0043, Test Loss: 0.0757\n",
      "\n",
      "Epoch 13/50\n",
      "Batch 324, Actual Training Loss: 0.0042, Test Loss: 0.0766\n",
      "Batch 336, Actual Training Loss: 0.0038, Test Loss: 0.0773\n",
      "\n",
      "Epoch 14/50\n",
      "Batch 348, Actual Training Loss: 0.0034, Test Loss: 0.0772\n",
      "Batch 360, Actual Training Loss: 0.0036, Test Loss: 0.0767\n",
      "\n",
      "Epoch 15/50\n",
      "Batch 372, Actual Training Loss: 0.0041, Test Loss: 0.0756\n",
      "Batch 384, Actual Training Loss: 0.0033, Test Loss: 0.0777\n",
      "\n",
      "Epoch 16/50\n",
      "Batch 396, Actual Training Loss: 0.0036, Test Loss: 0.0773\n",
      "Batch 408, Actual Training Loss: 0.0033, Test Loss: 0.0789\n",
      "\n",
      "Epoch 17/50\n",
      "Batch 420, Actual Training Loss: 0.0033, Test Loss: 0.0775\n",
      "Batch 432, Actual Training Loss: 0.0041, Test Loss: 0.0772\n",
      "\n",
      "Epoch 18/50\n",
      "Batch 444, Actual Training Loss: 0.0030, Test Loss: 0.0768\n",
      "Batch 456, Actual Training Loss: 0.0032, Test Loss: 0.0765\n",
      "Batch 468, Actual Training Loss: 0.0033, Test Loss: 0.0776\n",
      "\n",
      "Epoch 19/50\n",
      "Batch 480, Actual Training Loss: 0.0034, Test Loss: 0.0767\n",
      "Batch 492, Actual Training Loss: 0.0031, Test Loss: 0.0768\n",
      "\n",
      "Epoch 20/50\n",
      "Batch 504, Actual Training Loss: 0.0026, Test Loss: 0.0765\n",
      "Batch 516, Actual Training Loss: 0.0033, Test Loss: 0.0759\n",
      "\n",
      "Epoch 21/50\n",
      "Batch 528, Actual Training Loss: 0.0038, Test Loss: 0.0775\n",
      "Batch 540, Actual Training Loss: 0.0035, Test Loss: 0.0752\n",
      "\n",
      "Epoch 22/50\n",
      "Batch 552, Actual Training Loss: 0.0031, Test Loss: 0.0739\n",
      "Batch 564, Actual Training Loss: 0.0033, Test Loss: 0.0742\n",
      "\n",
      "Epoch 23/50\n",
      "Batch 576, Actual Training Loss: 0.0032, Test Loss: 0.0740\n",
      "Batch 588, Actual Training Loss: 0.0032, Test Loss: 0.0742\n",
      "\n",
      "Epoch 24/50\n",
      "Batch 600, Actual Training Loss: 0.0031, Test Loss: 0.0747\n",
      "Batch 612, Actual Training Loss: 0.0030, Test Loss: 0.0722\n",
      "Batch 624, Actual Training Loss: 0.0036, Test Loss: 0.0726\n",
      "\n",
      "Epoch 25/50\n",
      "Batch 636, Actual Training Loss: 0.0033, Test Loss: 0.0725\n",
      "Batch 648, Actual Training Loss: 0.0030, Test Loss: 0.0708\n",
      "\n",
      "Epoch 26/50\n",
      "Batch 660, Actual Training Loss: 0.0037, Test Loss: 0.0734\n",
      "Batch 672, Actual Training Loss: 0.0028, Test Loss: 0.0723\n",
      "\n",
      "Epoch 27/50\n",
      "Batch 684, Actual Training Loss: 0.0029, Test Loss: 0.0724\n",
      "Batch 696, Actual Training Loss: 0.0031, Test Loss: 0.0717\n",
      "\n",
      "Epoch 28/50\n",
      "Batch 708, Actual Training Loss: 0.0029, Test Loss: 0.0713\n",
      "Batch 720, Actual Training Loss: 0.0031, Test Loss: 0.0711\n",
      "\n",
      "Epoch 29/50\n",
      "Batch 732, Actual Training Loss: 0.0025, Test Loss: 0.0690\n",
      "Batch 744, Actual Training Loss: 0.0030, Test Loss: 0.0689\n",
      "\n",
      "Epoch 30/50\n",
      "Batch 756, Actual Training Loss: 0.0031, Test Loss: 0.0681\n",
      "Batch 768, Actual Training Loss: 0.0028, Test Loss: 0.0688\n",
      "Batch 780, Actual Training Loss: 0.0031, Test Loss: 0.0685\n",
      "\n",
      "Epoch 31/50\n",
      "Batch 792, Actual Training Loss: 0.0029, Test Loss: 0.0660\n",
      "Batch 804, Actual Training Loss: 0.0027, Test Loss: 0.0654\n",
      "\n",
      "Epoch 32/50\n",
      "Batch 816, Actual Training Loss: 0.0031, Test Loss: 0.0676\n",
      "Batch 828, Actual Training Loss: 0.0028, Test Loss: 0.0665\n",
      "\n",
      "Epoch 33/50\n",
      "Batch 840, Actual Training Loss: 0.0029, Test Loss: 0.0662\n",
      "Batch 852, Actual Training Loss: 0.0025, Test Loss: 0.0654\n",
      "\n",
      "Epoch 34/50\n",
      "Batch 864, Actual Training Loss: 0.0029, Test Loss: 0.0657\n",
      "Batch 876, Actual Training Loss: 0.0030, Test Loss: 0.0679\n",
      "\n",
      "Epoch 35/50\n",
      "Batch 888, Actual Training Loss: 0.0022, Test Loss: 0.0656\n",
      "Batch 900, Actual Training Loss: 0.0025, Test Loss: 0.0638\n",
      "\n",
      "Epoch 36/50\n",
      "Batch 912, Actual Training Loss: 0.0029, Test Loss: 0.0638\n",
      "Batch 924, Actual Training Loss: 0.0027, Test Loss: 0.0638\n",
      "Batch 936, Actual Training Loss: 0.0025, Test Loss: 0.0634\n",
      "\n",
      "Epoch 37/50\n",
      "Batch 948, Actual Training Loss: 0.0026, Test Loss: 0.0621\n",
      "Batch 960, Actual Training Loss: 0.0026, Test Loss: 0.0620\n",
      "\n",
      "Epoch 38/50\n",
      "Batch 972, Actual Training Loss: 0.0029, Test Loss: 0.0621\n",
      "Batch 984, Actual Training Loss: 0.0025, Test Loss: 0.0627\n",
      "\n",
      "Epoch 39/50\n",
      "Batch 996, Actual Training Loss: 0.0029, Test Loss: 0.0627\n",
      "Batch 1008, Actual Training Loss: 0.0028, Test Loss: 0.0624\n",
      "\n",
      "Epoch 40/50\n",
      "Batch 1020, Actual Training Loss: 0.0023, Test Loss: 0.0614\n",
      "Batch 1032, Actual Training Loss: 0.0028, Test Loss: 0.0616\n",
      "\n",
      "Epoch 41/50\n",
      "Batch 1044, Actual Training Loss: 0.0026, Test Loss: 0.0608\n",
      "Batch 1056, Actual Training Loss: 0.0024, Test Loss: 0.0599\n",
      "\n",
      "Epoch 42/50\n",
      "Batch 1068, Actual Training Loss: 0.0025, Test Loss: 0.0594\n",
      "Batch 1080, Actual Training Loss: 0.0025, Test Loss: 0.0598\n",
      "Batch 1092, Actual Training Loss: 0.0025, Test Loss: 0.0587\n",
      "\n",
      "Epoch 43/50\n",
      "Batch 1104, Actual Training Loss: 0.0023, Test Loss: 0.0584\n",
      "Batch 1116, Actual Training Loss: 0.0026, Test Loss: 0.0599\n",
      "\n",
      "Epoch 44/50\n",
      "Batch 1128, Actual Training Loss: 0.0028, Test Loss: 0.0582\n",
      "Batch 1140, Actual Training Loss: 0.0023, Test Loss: 0.0583\n",
      "\n",
      "Epoch 45/50\n",
      "Batch 1152, Actual Training Loss: 0.0025, Test Loss: 0.0581\n",
      "Batch 1164, Actual Training Loss: 0.0025, Test Loss: 0.0580\n",
      "\n",
      "Epoch 46/50\n",
      "Batch 1176, Actual Training Loss: 0.0023, Test Loss: 0.0573\n",
      "Batch 1188, Actual Training Loss: 0.0026, Test Loss: 0.0567\n",
      "\n",
      "Epoch 47/50\n",
      "Batch 1200, Actual Training Loss: 0.0030, Test Loss: 0.0564\n",
      "Batch 1212, Actual Training Loss: 0.0024, Test Loss: 0.0557\n",
      "\n",
      "Epoch 48/50\n",
      "Batch 1224, Actual Training Loss: 0.0025, Test Loss: 0.0558\n",
      "Batch 1236, Actual Training Loss: 0.0026, Test Loss: 0.0567\n",
      "Batch 1248, Actual Training Loss: 0.0024, Test Loss: 0.0563\n",
      "\n",
      "Epoch 49/50\n",
      "Batch 1260, Actual Training Loss: 0.0027, Test Loss: 0.0570\n",
      "Batch 1272, Actual Training Loss: 0.0020, Test Loss: 0.0555\n",
      "\n",
      "Epoch 50/50\n",
      "Batch 1284, Actual Training Loss: 0.0022, Test Loss: 0.0559\n",
      "Batch 1296, Actual Training Loss: 0.0025, Test Loss: 0.0548\n",
      "\n"
     ]
    }
   ],
   "source": [
    "# Train\n",
    "loss_train = []\n",
    "loss_test = []\n",
    "loss_train_epoch = 0.0\n",
    "count_batch = 0\n",
    "\n",
    "for epoch in range(num_epochs):\n",
    "    print(f'Epoch {epoch+1}/{num_epochs}')\n",
    "    for _, (feature_train, target_train) in enumerate(train_loader):\n",
    "        feature_train, target_train = feature_train.to(device), target_train.to(device)\n",
    "        out = model(feature_train)\n",
    "        loss = criterion(out, target_train)\n",
    "        loss_train_epoch += loss.item()\n",
    "\n",
    "        optimizer.zero_grad()\n",
    "        loss.backward()\n",
    "        optimizer.step()\n",
    "\n",
    "        # Test the model\n",
    "        if count_batch % test_every == test_every-1:\n",
    "            avg_loss_train = loss_train_epoch / test_every\n",
    "            loss_train.append(avg_loss_train)\n",
    "            avg_loss_test = test(model, test_loader, criterion, device)\n",
    "            loss_test.append(avg_loss_test)\n",
    "            print('Batch {0}, Actual Training Loss: {1:.4f}, Test Loss: {2:.4f}'.format(count_batch+1,\n",
    "                                                                                        avg_loss_train,\n",
    "                                                                                        avg_loss_test))\n",
    "            loss_train_epoch = 0.0\n",
    "            model.train()\n",
    "        count_batch += 1\n",
    "    print()"
   ]
  },
  {
   "cell_type": "markdown",
   "metadata": {},
   "source": [
    "### Results"
   ]
  },
  {
   "cell_type": "markdown",
   "metadata": {},
   "source": [
    "Let's check the loss evolution"
   ]
  },
  {
   "cell_type": "code",
   "execution_count": 22,
   "metadata": {},
   "outputs": [
    {
     "data": {
      "image/png": "[encoded data removed]",
      "text/plain": [
       "<Figure size 800x600 with 1 Axes>"
      ]
     },
     "metadata": {},
     "output_type": "display_data"
    }
   ],
   "source": [
    "# Plot the loss\n",
    "plt.figure(figsize=(8,6))\n",
    "plt.xlabel('Batchs')\n",
    "plt.ylabel('Loss')\n",
    "plt.plot(loss_train, label='Training Loss')\n",
    "plt.plot(loss_test, label='Test Loss')\n",
    "plt.legend(loc='upper right')\n",
    "plt.show()"
   ]
  },
  {
   "cell_type": "markdown",
   "metadata": {},
   "source": [
    "Let's check the behavior of the training predictions"
   ]
  },
  {
   "cell_type": "code",
   "execution_count": 23,
   "metadata": {},
   "outputs": [
    {
     "data": {
      "image/png": "[encoded data removed]",
      "text/plain": [
       "<Figure size 640x480 with 1 Axes>"
      ]
     },
     "metadata": {},
     "output_type": "display_data"
    }
   ],
   "source": [
    "model.eval()\n",
    "with torch.no_grad():\n",
    "    predictions = model(X_train.to(device)).cpu().numpy()\n",
    "\n",
    "# Plot the predictions\n",
    "plt.plot(y_train.cpu().numpy(), label='Actual Close Price')\n",
    "plt.plot(predictions, label='Predicted Close Price')\n",
    "plt.xlabel('Day')\n",
    "plt.ylabel('Close Price')\n",
    "plt.legend()\n",
    "plt.show()"
   ]
  },
  {
   "cell_type": "markdown",
   "metadata": {},
   "source": [
    " It looks good for the training data, but what about the test data? Let's check it out."
   ]
  },
  {
   "cell_type": "markdown",
   "metadata": {},
   "source": [
    "## Test Visualization"
   ]
  },
  {
   "cell_type": "markdown",
   "metadata": {},
   "source": [
    "Inverse transformation with train predictions."
   ]
  },
  {
   "cell_type": "code",
   "execution_count": 24,
   "metadata": {},
   "outputs": [
    {
     "name": "stdout",
     "output_type": "stream",
     "text": [
      "(52,)\n"
     ]
    }
   ],
   "source": [
    "# Inverse transform the data\n",
    "model.eval()\n",
    "with torch.no_grad():\n",
    "    test_predictions = model(X_test.to(device)).detach().cpu().numpy().flatten()\n",
    "\n",
    "# Create dummy array to inverse transform\n",
    "# The dummy array is necessary because the scaler.inverse_transform\n",
    "# only works with 2D arrays\n",
    "dummy = np.zeros((test_predictions.shape[0], lookback+1))\n",
    "dummy[:, 0] = test_predictions\n",
    "dummy = scaler.inverse_transform(dummy)\n",
    "\n",
    "test_predictions = deepcopy(dummy[:, 0])\n",
    "print(test_predictions.shape)"
   ]
  },
  {
   "cell_type": "markdown",
   "metadata": {},
   "source": [
    "Inverse transformation with actual labels"
   ]
  },
  {
   "cell_type": "code",
   "execution_count": 25,
   "metadata": {},
   "outputs": [
    {
     "name": "stdout",
     "output_type": "stream",
     "text": [
      "(52,)\n"
     ]
    }
   ],
   "source": [
    "dummy = np.zeros((y_test.shape[0], lookback+1))\n",
    "dummy[:, 0] = y_test.flatten()\n",
    "dummy = scaler.inverse_transform(dummy)\n",
    "\n",
    "actual_targets = deepcopy(dummy[:, 0])\n",
    "print(actual_targets.shape)"
   ]
  },
  {
   "cell_type": "markdown",
   "metadata": {},
   "source": [
    "Let's plot the predictions and the actual targets."
   ]
  },
  {
   "cell_type": "code",
   "execution_count": 26,
   "metadata": {},
   "outputs": [
    {
     "data": {
      "image/png": "[encoded data removed]",
      "text/plain": [
       "<Figure size 640x480 with 1 Axes>"
      ]
     },
     "metadata": {},
     "output_type": "display_data"
    }
   ],
   "source": [
    "plt.plot(actual_targets, label='Actual Close Price')\n",
    "plt.plot(test_predictions, label='Predicted Close Price')\n",
    "plt.xlabel('Day')\n",
    "plt.ylabel('Close Price')\n",
    "plt.legend()\n",
    "plt.title('Test Data Comparison Close Price')\n",
    "plt.show()"
   ]
  },
  {
   "cell_type": "markdown",
   "metadata": {},
   "source": [
    "We can see that the model get the trend of the data. It's a good model to get a big picture. We can try to improve the model by changing the hyperparameters, adding more layers, etc."
   ]
  }
 ],
 "metadata": {
  "kernelspec": {
   "display_name": "vak-two",
   "language": "python",
   "name": "python3"
  },
  "language_info": {
   "codemirror_mode": {
    "name": "ipython",
    "version": 3
   },
   "file_extension": ".py",
   "mimetype": "text/x-python",
   "name": "python",
   "nbconvert_exporter": "python",
   "pygments_lexer": "ipython3",
   "version": "3.9.0"
  }
 },
 "nbformat": 4,
 "nbformat_minor": 2
}
